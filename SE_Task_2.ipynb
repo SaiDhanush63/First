{
  "nbformat": 4,
  "nbformat_minor": 0,
  "metadata": {
    "colab": {
      "provenance": [],
      "authorship_tag": "ABX9TyPFO4rvf34hdx+/3E/JJWOS",
      "include_colab_link": true
    },
    "kernelspec": {
      "name": "python3",
      "display_name": "Python 3"
    },
    "language_info": {
      "name": "python"
    }
  },
  "cells": [
    {
      "cell_type": "markdown",
      "metadata": {
        "id": "view-in-github",
        "colab_type": "text"
      },
      "source": [
        "<a href=\"https://colab.research.google.com/github/SaiDhanush63/First/blob/main/SE_Task_2.ipynb\" target=\"_parent\"><img src=\"https://colab.research.google.com/assets/colab-badge.svg\" alt=\"Open In Colab\"/></a>"
      ]
    },
    {
      "cell_type": "code",
      "execution_count": 25,
      "metadata": {
        "id": "VMpO2bqlm0_y"
      },
      "outputs": [],
      "source": [
        "def Temp_modelling(a,b,c,time):\n",
        "  temp=a*time**2+b*time+c\n",
        "  return temp"
      ]
    },
    {
      "cell_type": "code",
      "source": [
        "#Hardcoded variables\n",
        "a,b,c=0.1,2,10\n",
        "time=5\n",
        "print(\"Hardcoded variables for weather modelling\")\n",
        "print(\"Temperature for hardcoded temperature at time\",time,\"hours\",Temp_modelling(a,b,c,time))"
      ],
      "metadata": {
        "colab": {
          "base_uri": "https://localhost:8080/"
        },
        "id": "djjO0lgzqhOb",
        "outputId": "4434f6f5-ed0e-4d21-b1f9-961189dfc838"
      },
      "execution_count": 12,
      "outputs": [
        {
          "output_type": "stream",
          "name": "stdout",
          "text": [
            "Hardcoded variables for weather modelling\n",
            "Temperature for hardcoded temperature at time 5 hours 22.5\n"
          ]
        }
      ]
    },
    {
      "cell_type": "code",
      "source": [
        "#variables read from keyboard\n",
        "a=float(input(\"Enter value of a: \"))\n",
        "b=float(input(\"Enter value of b: \"))\n",
        "c=float(input(\"Enter value of c: \"))\n",
        "time=float(input(\"Enter value of time: \"))\n",
        "print(\"Keyboard input variables for weather modelling\")\n",
        "print(\"Temperature for hardcoded temperature at time\",time,\"hours\",Temp_modelling(a,b,c,time))"
      ],
      "metadata": {
        "colab": {
          "base_uri": "https://localhost:8080/"
        },
        "id": "zmm5Ocpcq25U",
        "outputId": "717729ac-940d-44b9-ac7e-6ebdbae8f34c"
      },
      "execution_count": 14,
      "outputs": [
        {
          "output_type": "stream",
          "name": "stdout",
          "text": [
            "Enter value of a: 0.1\n",
            "Enter value of b: 3\n",
            "Enter value of c: 10\n",
            "Enter value of time: 4\n",
            "Keyboard input variables for weather modelling\n",
            "Temperature for hardcoded temperature at time 4.0 hours 23.6\n"
          ]
        }
      ]
    },
    {
      "cell_type": "code",
      "source": [
        "#read from file\n",
        "def read_from_file(filename):\n",
        "  with open(filename,'r') as f:\n",
        "    lines=f.readlines()\n",
        "  coeffiecients=[tuple(map(float,line.strip().split(','))) for line in lines]\n",
        "  return coeffiecients"
      ],
      "metadata": {
        "id": "IX5iajmrrPm0"
      },
      "execution_count": 22,
      "outputs": []
    },
    {
      "cell_type": "code",
      "source": [
        "#example: solve for a single set of inputs\n",
        "coeffiecients=read_from_file('/content/coeffiecients.txt')\n",
        "a,b,c,time=coeffiecients[0]\n",
        "temp=Temp_modelling(a,b,c,time)\n",
        "print(\"read from a file for weather modelling\")\n",
        "print(\"Temperature for keyboard coefficients at time\",time,\"hours\",Temp_modelling(a,b,c,time))"
      ],
      "metadata": {
        "colab": {
          "base_uri": "https://localhost:8080/"
        },
        "id": "ODdkfCfIrnKU",
        "outputId": "78b85ad9-3213-479e-86f1-d746470afced"
      },
      "execution_count": 23,
      "outputs": [
        {
          "output_type": "stream",
          "name": "stdout",
          "text": [
            "read from a file for weather modelling\n",
            "Temperature for keyboard coefficients at time 4.0 hours 38.4\n"
          ]
        }
      ]
    },
    {
      "cell_type": "code",
      "source": [
        "#solve for all sets in the file\n",
        "for idx,(a,b,c,time) in enumerate(coeffiecients):\n",
        "  temp=Temp_modelling(a,b,c,time)\n",
        "  print(\"Temperature for keyboard coefficients at time\",time,\"hours\",temp)"
      ],
      "metadata": {
        "colab": {
          "base_uri": "https://localhost:8080/"
        },
        "id": "yXzi50kIr8s7",
        "outputId": "f542b1ce-8d4a-4ff5-e1ae-9161516d6010"
      },
      "execution_count": 24,
      "outputs": [
        {
          "output_type": "stream",
          "name": "stdout",
          "text": [
            "Temperature for keyboard coefficients at time 4.0 hours 38.4\n",
            "Temperature for keyboard coefficients at time 2.0 hours 18.0\n",
            "Temperature for keyboard coefficients at time 11.0 hours 114.2\n",
            "Temperature for keyboard coefficients at time 5.0 hours 25.0\n"
          ]
        }
      ]
    }
  ]
}